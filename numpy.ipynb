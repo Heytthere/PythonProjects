{
 "cells": [
  {
   "cell_type": "code",
   "execution_count": 2,
   "id": "4dec12ed",
   "metadata": {},
   "outputs": [],
   "source": [
    "#importing numpy library as np\n",
    "import numpy as np"
   ]
  },
  {
   "cell_type": "code",
   "execution_count": 37,
   "id": "6d29353b",
   "metadata": {},
   "outputs": [],
   "source": [
    "#using array function to create arrays\n",
    "a=np.array([[1,2],[6,7]])\n",
    "b=np.array([[11,12],[16,17]])"
   ]
  },
  {
   "cell_type": "code",
   "execution_count": 40,
   "id": "46db29ce",
   "metadata": {},
   "outputs": [
    {
     "name": "stdout",
     "output_type": "stream",
     "text": [
      "[[6 7]]\n"
     ]
    }
   ],
   "source": [
    "print(a[1:2,0:2])#printing array"
   ]
  },
  {
   "cell_type": "code",
   "execution_count": 57,
   "id": "d6827b29",
   "metadata": {
    "scrolled": true
   },
   "outputs": [
    {
     "name": "stdout",
     "output_type": "stream",
     "text": [
      "[[1 2]\n",
      " [6 7]]\n",
      "[[11 12]\n",
      " [16 17]]\n",
      "[[ 43  46]\n",
      " [178 191]]\n"
     ]
    }
   ],
   "source": [
    "print(a)\n",
    "print(b)\n",
    "mul=np.dot(a,b)#matrix multiplication\n",
    "print(mul)"
   ]
  },
  {
   "cell_type": "code",
   "execution_count": 50,
   "id": "74dc8bcb",
   "metadata": {},
   "outputs": [
    {
     "name": "stdout",
     "output_type": "stream",
     "text": [
      "[[ 11  24]\n",
      " [ 96 119]]\n"
     ]
    }
   ],
   "source": [
    "mul1=np.multiply(a,b) #normal multiplication\n",
    "print(mul1)"
   ]
  },
  {
   "cell_type": "code",
   "execution_count": 52,
   "id": "0ad240ec",
   "metadata": {},
   "outputs": [
    {
     "name": "stdout",
     "output_type": "stream",
     "text": [
      "[[12 14]\n",
      " [22 24]]\n"
     ]
    }
   ],
   "source": [
    "add1=np.add(a,b)#addition\n",
    "print(add1)"
   ]
  },
  {
   "cell_type": "code",
   "execution_count": 67,
   "id": "e13e641b",
   "metadata": {
    "scrolled": true
   },
   "outputs": [
    {
     "name": "stdout",
     "output_type": "stream",
     "text": [
      "[[1 2]\n",
      " [6 7]]\n",
      "[[11 12]\n",
      " [16 17]]\n",
      "[[-10 -10]\n",
      " [-10 -10]]\n"
     ]
    }
   ],
   "source": [
    "print(a)\n",
    "print(b)\n",
    "sub=np.subtract(a,b)#sybtraction\n",
    "print(sub)"
   ]
  },
  {
   "cell_type": "code",
   "execution_count": 68,
   "id": "c4798237",
   "metadata": {},
   "outputs": [
    {
     "name": "stdout",
     "output_type": "stream",
     "text": [
      "[[0.09090909 0.16666667]\n",
      " [0.375      0.41176471]]\n"
     ]
    }
   ],
   "source": [
    "dev=np.divide(a,b)#division\n",
    "print(dev)"
   ]
  },
  {
   "cell_type": "code",
   "execution_count": 74,
   "id": "78f49385",
   "metadata": {},
   "outputs": [
    {
     "name": "stdout",
     "output_type": "stream",
     "text": [
      "[[0.66666667 0.8        0.85714286]\n",
      " [0.88888889 0.90909091 0.92307692]]\n"
     ]
    }
   ],
   "source": [
    "n1=np.array([[10,20,30],[40,50,60]])\n",
    "n2=np.array([[15,25,35],[45,55,65]])\n",
    "div1=np.divide(n1,n2)#array matrix division\n",
    "print(div1)"
   ]
  },
  {
   "cell_type": "code",
   "execution_count": null,
   "id": "5d310fa2",
   "metadata": {},
   "outputs": [],
   "source": [
    "print(\"shape a:{}\".format(a.shape)) #shape: To get the dimensions of the array.\n",
    "print(\"ndim {}\".format(a.ndim))#ndim: To find out how many dimensions the array has.\n",
    "print(\"size {}\".format(a.size))#size: To determine the total number of elements in the array.\n",
    "print(f\"dtype {a.dtype}\")#dtype: To check the data type of the elements in the array.\n",
    "print(f\"itemsize {a.itemsize}\")#itemsize: To find out how much memory each element takes.\n",
    "print(f\"data {a.data}\")#data: To access the raw data buffer of the array."
   ]
  },
  {
   "cell_type": "code",
   "execution_count": null,
   "id": "4aeb1b0c",
   "metadata": {},
   "outputs": [],
   "source": [
    "a1 = np.array([[2, 3, 4, 5],\n",
    "               [1, 4, 7, 6]])\n",
    "a2 = np.array([[1, 1, 1], [1, 1, 1]])\n",
    "\n",
    "# Slicing the array\n",
    "sliced_arr = a1[:2, :2]\n",
    "print(\"Sliced Array:\")\n",
    "print(sliced_arr)\n"
   ]
  },
  {
   "cell_type": "code",
   "execution_count": null,
   "id": "262dc7fe",
   "metadata": {},
   "outputs": [],
   "source": [
    "# Using advanced indexing to extract elements from 'a1' at positions (1, 2) and (1, 1).\n",
    "index_arr=a1[[1,1],[2,1]]\n",
    "print(index_arr)"
   ]
  },
  {
   "cell_type": "code",
   "execution_count": null,
   "id": "f7d6557e",
   "metadata": {},
   "outputs": [],
   "source": [
    "# Calculating the sum of all elements in 'a1'\n",
    "arr=np.array([[25,64],[89,36]])\n",
    "print(arr.sum())"
   ]
  },
  {
   "cell_type": "code",
   "execution_count": null,
   "id": "42dc716a",
   "metadata": {},
   "outputs": [],
   "source": [
    "#indicate that not all elements in the array are True, \n",
    "#and only the second column contains all True values.\n",
    "\n",
    "bool=np.array([[True,True],[False,True]])\n",
    "print(\"all() with axis none\",np.all(bool))\n",
    "print(\"all() with axis 0\",np.all(bool,axis=0))"
   ]
  },
  {
   "cell_type": "code",
   "execution_count": 90,
   "id": "2d78d935",
   "metadata": {},
   "outputs": [
    {
     "name": "stdout",
     "output_type": "stream",
     "text": [
      "[[ 10  20  30  40]\n",
      " [ 50  60  70  80]\n",
      " [ 90 100 110 120]\n",
      " [130 140 150 160]]\n"
     ]
    }
   ],
   "source": [
    "n3=np.array([10,20,30,40,50,60,70,80,90,100,110,120,130,140,150,160])\n",
    "#arange(): Generates a sequence of numbers.\n",
    "n3=np.arange(9)\n",
    "print(n3)\n",
    "#reshape(): Reshapes the array into a specified shape.\n",
    "re=n3.reshape(4,4)#reshape3 'n3' into 4x4 array\n",
    "print(re)#print thereshaped array"
   ]
  },
  {
   "cell_type": "code",
   "execution_count": null,
   "id": "46d5bebd",
   "metadata": {},
   "outputs": [],
   "source": [
    "#it extracts the first and second columns from the array\n",
    "print(np.take(re,[0,1],axis=1))"
   ]
  },
  {
   "cell_type": "code",
   "execution_count": 94,
   "id": "0b22c0cf",
   "metadata": {},
   "outputs": [
    {
     "name": "stdout",
     "output_type": "stream",
     "text": [
      "10\n",
      "160\n",
      "[ 40  80 120 160]\n",
      "[10 20 30 40]\n"
     ]
    }
   ],
   "source": [
    "print(n3.min())#minimum value of n3\n",
    "print(n3.max())#maximum value of n3\n",
    "print(re.max(axis=1))#print max along each row\n",
    "print(re.min(axis=0))#print min along each row"
   ]
  },
  {
   "cell_type": "code",
   "execution_count": 99,
   "id": "85447629",
   "metadata": {},
   "outputs": [
    {
     "name": "stdout",
     "output_type": "stream",
     "text": [
      "[[10 20 30]\n",
      " [40 50 60]]\n",
      "[[3.16227766 4.47213595 5.47722558]\n",
      " [6.32455532 7.07106781 7.74596669]]\n",
      "17.07825127659933\n"
     ]
    }
   ],
   "source": [
    "print(n1)\n",
    "print(np.sqrt(n1))#print the square root of n1\n",
    "print(np.std(n1))#print the standard deviation of n1"
   ]
  },
  {
   "cell_type": "code",
   "execution_count": 114,
   "id": "824ebed4",
   "metadata": {},
   "outputs": [
    {
     "name": "stdout",
     "output_type": "stream",
     "text": [
      "[[10 20 30]\n",
      " [40 50 60]\n",
      " [15 25 35]\n",
      " [45 55 65]]\n",
      "[[10 20 30 15 25 35]\n",
      " [40 50 60 45 55 65]]\n"
     ]
    }
   ],
   "source": [
    "v=np.vstack((n1,n2))#stacking arrays vertically\n",
    "print(v)\n",
    "h=np.hstack((n1,n2))#stacking arrays horizontally\n",
    "print(h)"
   ]
  },
  {
   "cell_type": "code",
   "execution_count": 107,
   "id": "b37a74f6",
   "metadata": {},
   "outputs": [
    {
     "name": "stdout",
     "output_type": "stream",
     "text": [
      "[ 0  3  6  9 12 15 18]\n"
     ]
    }
   ],
   "source": [
    "arr=np.arange(0,20,3)#create an array with elements from 0 to 20 with a step of 3\n",
    "print(arr)"
   ]
  },
  {
   "cell_type": "code",
   "execution_count": 109,
   "id": "fa1b76c9",
   "metadata": {},
   "outputs": [
    {
     "name": "stdout",
     "output_type": "stream",
     "text": [
      "[ 0.  3.  6.  9. 12. 15. 18. 21. 24. 27. 30. 33. 36. 39. 42. 45. 48.]\n",
      "float64\n"
     ]
    }
   ],
   "source": [
    "arr=np.arange(0,50,3,float)#create an array with elements from 0 to 50 with a step of 3 and data type float\n",
    "print(arr)\n",
    "print(arr.dtype)"
   ]
  },
  {
   "cell_type": "code",
   "execution_count": 115,
   "id": "03679cec",
   "metadata": {},
   "outputs": [
    {
     "name": "stdout",
     "output_type": "stream",
     "text": [
      "[ 0. 25. 50.]\n",
      "float64\n"
     ]
    }
   ],
   "source": [
    "arr=np.linspace(0,50,3)#create an array with elements from 0 to 50 with 3 elements\n",
    "print(arr)\n",
    "print(arr.dtype)"
   ]
  },
  {
   "cell_type": "code",
   "execution_count": 117,
   "id": "fc0a7d8e",
   "metadata": {},
   "outputs": [
    {
     "name": "stdout",
     "output_type": "stream",
     "text": [
      "[[10 40]\n",
      " [20 50]\n",
      " [30 60]\n",
      " [15 45]\n",
      " [25 55]\n",
      " [35 65]]\n"
     ]
    }
   ],
   "source": [
    "#transpose the array\n",
    "hr=h.T\n",
    "print(hr)"
   ]
  },
  {
   "cell_type": "code",
   "execution_count": 122,
   "id": "1929be70",
   "metadata": {},
   "outputs": [
    {
     "name": "stdout",
     "output_type": "stream",
     "text": [
      "AK 10\n",
      "AK 20\n",
      "AK 30\n",
      "AK 15\n",
      "AK 25\n",
      "AK 35\n",
      "AK 40\n",
      "AK 50\n",
      "AK 60\n",
      "AK 45\n",
      "AK 55\n",
      "AK 65\n"
     ]
    }
   ],
   "source": [
    "#iterating through the array\n",
    "for i in np.nditer(hr):\n",
    "    print(\"AK\",i)"
   ]
  },
  {
   "cell_type": "code",
   "execution_count": null,
   "id": "f12c4165",
   "metadata": {},
   "outputs": [],
   "source": [
    "#hsplit(): Splits an array horizontally (along columns).\n",
    "h_split=np.hsplit(h,3)\n",
    "print(\"hsplit:\",h_split)\n",
    "\n",
    "#vsplit(): Splits an array vertically (along rows).\n",
    "v_split=np.vsplit(h,2)\n",
    "print(\"vsplit:\",v_split)"
   ]
  },
  {
   "cell_type": "code",
   "execution_count": 4,
   "id": "bc646866",
   "metadata": {},
   "outputs": [
    {
     "ename": "NameError",
     "evalue": "name 'np' is not defined",
     "output_type": "error",
     "traceback": [
      "\u001b[0;31m---------------------------------------------------------------------------\u001b[0m",
      "\u001b[0;31mNameError\u001b[0m                                 Traceback (most recent call last)",
      "Input \u001b[0;32mIn [4]\u001b[0m, in \u001b[0;36m<cell line: 2>\u001b[0;34m()\u001b[0m\n\u001b[1;32m      1\u001b[0m \u001b[38;5;28;01mfrom\u001b[39;00m \u001b[38;5;21;01mscipy\u001b[39;00m \u001b[38;5;28;01mimport\u001b[39;00m stats \u001b[38;5;28;01mas\u001b[39;00m st \n\u001b[0;32m----> 2\u001b[0m \u001b[38;5;28mprint\u001b[39m(\u001b[38;5;124m\"\u001b[39m\u001b[38;5;124mmean:\u001b[39m\u001b[38;5;124m\"\u001b[39m,\u001b[43mnp\u001b[49m\u001b[38;5;241m.\u001b[39mmean(arr))\n",
      "\u001b[0;31mNameError\u001b[0m: name 'np' is not defined"
     ]
    }
   ],
   "source": [
    "from scipy import stats as st \n",
    "print(\"mean:\",np.mean(arr))                                                                                                                                                                                                                                                                                                                                                                                                                                                                                                                                                                                                                                                                                                                                                                                                                                                                                                                                                                                                                                                                                                                                                                                                                                                                                                                                                                                                                                                                                                                                                                                                                                                                                                                                                                                                                                                                                                                                                                                                                                        "
   ]
  },
  {
   "cell_type": "code",
   "execution_count": null,
   "id": "dd13cb76",
   "metadata": {},
   "outputs": [],
   "source": []
  }
 ],
 "metadata": {
  "kernelspec": {
   "display_name": "Python 3 (ipykernel)",
   "language": "python",
   "name": "python3"
  },
  "language_info": {
   "codemirror_mode": {
    "name": "ipython",
    "version": 3
   },
   "file_extension": ".py",
   "mimetype": "text/x-python",
   "name": "python",
   "nbconvert_exporter": "python",
   "pygments_lexer": "ipython3",
   "version": "3.9.12"
  }
 },
 "nbformat": 4,
 "nbformat_minor": 5
}
