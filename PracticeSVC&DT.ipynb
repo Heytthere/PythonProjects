{
  "nbformat": 4,
  "nbformat_minor": 0,
  "metadata": {
    "colab": {
      "provenance": [],
      "authorship_tag": "ABX9TyNDfP/GFiOn6XvxoAoUUh8e",
      "include_colab_link": true
    },
    "kernelspec": {
      "name": "python3",
      "display_name": "Python 3"
    },
    "language_info": {
      "name": "python"
    }
  },
  "cells": [
    {
      "cell_type": "markdown",
      "metadata": {
        "id": "view-in-github",
        "colab_type": "text"
      },
      "source": [
        "<a href=\"https://colab.research.google.com/github/Heytthere/PythonProjects/blob/main/PracticeSVC%26DT.ipynb\" target=\"_parent\"><img src=\"https://colab.research.google.com/assets/colab-badge.svg\" alt=\"Open In Colab\"/></a>"
      ]
    },
    {
      "cell_type": "code",
      "source": [
        "import pandas as pd\n",
        "import numpy as np\n",
        "from sklearn.datasets import load_iris\n",
        "from sklearn.model_selection import train_test_split\n",
        "from sklearn.svm import SVC\n",
        "from sklearn.tree import DecisionTreeClassifier\n",
        "from sklearn.metrics import confusion_matrix, accuracy_score\n",
        "import matplotlib.pyplot as plt"
      ],
      "metadata": {
        "id": "dbxCYam-e3tK"
      },
      "execution_count": 65,
      "outputs": []
    },
    {
      "cell_type": "code",
      "source": [
        "iris = load_iris()\n",
        "df = pd.DataFrame(iris.data, columns=iris.feature_names)\n",
        "df['species'] = pd.Categorical.from_codes(iris.target, iris.target_names)\n"
      ],
      "metadata": {
        "id": "-6h76e_qe5UA"
      },
      "execution_count": 66,
      "outputs": []
    },
    {
      "cell_type": "code",
      "source": [
        "print(df[['sepal length (cm)', 'species']].head())"
      ],
      "metadata": {
        "colab": {
          "base_uri": "https://localhost:8080/"
        },
        "id": "YL4W-rvnfEJh",
        "outputId": "858a0621-407a-47b2-bf4f-72f118eb5554"
      },
      "execution_count": 67,
      "outputs": [
        {
          "output_type": "stream",
          "name": "stdout",
          "text": [
            "   sepal length (cm) species\n",
            "0                5.1  setosa\n",
            "1                4.9  setosa\n",
            "2                4.7  setosa\n",
            "3                4.6  setosa\n",
            "4                5.0  setosa\n"
          ]
        }
      ]
    },
    {
      "cell_type": "code",
      "source": [
        "print(df[df['petal width (cm)'] > 1.5])"
      ],
      "metadata": {
        "colab": {
          "base_uri": "https://localhost:8080/"
        },
        "id": "faiy_bx6fHzi",
        "outputId": "f901b7e9-8675-4c7b-9891-bd9d95e12939"
      },
      "execution_count": 68,
      "outputs": [
        {
          "output_type": "stream",
          "name": "stdout",
          "text": [
            "     sepal length (cm)  sepal width (cm)  petal length (cm)  petal width (cm)  \\\n",
            "56                 6.3               3.3                4.7               1.6   \n",
            "70                 5.9               3.2                4.8               1.8   \n",
            "77                 6.7               3.0                5.0               1.7   \n",
            "83                 6.0               2.7                5.1               1.6   \n",
            "85                 6.0               3.4                4.5               1.6   \n",
            "100                6.3               3.3                6.0               2.5   \n",
            "101                5.8               2.7                5.1               1.9   \n",
            "102                7.1               3.0                5.9               2.1   \n",
            "103                6.3               2.9                5.6               1.8   \n",
            "104                6.5               3.0                5.8               2.2   \n",
            "105                7.6               3.0                6.6               2.1   \n",
            "106                4.9               2.5                4.5               1.7   \n",
            "107                7.3               2.9                6.3               1.8   \n",
            "108                6.7               2.5                5.8               1.8   \n",
            "109                7.2               3.6                6.1               2.5   \n",
            "110                6.5               3.2                5.1               2.0   \n",
            "111                6.4               2.7                5.3               1.9   \n",
            "112                6.8               3.0                5.5               2.1   \n",
            "113                5.7               2.5                5.0               2.0   \n",
            "114                5.8               2.8                5.1               2.4   \n",
            "115                6.4               3.2                5.3               2.3   \n",
            "116                6.5               3.0                5.5               1.8   \n",
            "117                7.7               3.8                6.7               2.2   \n",
            "118                7.7               2.6                6.9               2.3   \n",
            "120                6.9               3.2                5.7               2.3   \n",
            "121                5.6               2.8                4.9               2.0   \n",
            "122                7.7               2.8                6.7               2.0   \n",
            "123                6.3               2.7                4.9               1.8   \n",
            "124                6.7               3.3                5.7               2.1   \n",
            "125                7.2               3.2                6.0               1.8   \n",
            "126                6.2               2.8                4.8               1.8   \n",
            "127                6.1               3.0                4.9               1.8   \n",
            "128                6.4               2.8                5.6               2.1   \n",
            "129                7.2               3.0                5.8               1.6   \n",
            "130                7.4               2.8                6.1               1.9   \n",
            "131                7.9               3.8                6.4               2.0   \n",
            "132                6.4               2.8                5.6               2.2   \n",
            "135                7.7               3.0                6.1               2.3   \n",
            "136                6.3               3.4                5.6               2.4   \n",
            "137                6.4               3.1                5.5               1.8   \n",
            "138                6.0               3.0                4.8               1.8   \n",
            "139                6.9               3.1                5.4               2.1   \n",
            "140                6.7               3.1                5.6               2.4   \n",
            "141                6.9               3.1                5.1               2.3   \n",
            "142                5.8               2.7                5.1               1.9   \n",
            "143                6.8               3.2                5.9               2.3   \n",
            "144                6.7               3.3                5.7               2.5   \n",
            "145                6.7               3.0                5.2               2.3   \n",
            "146                6.3               2.5                5.0               1.9   \n",
            "147                6.5               3.0                5.2               2.0   \n",
            "148                6.2               3.4                5.4               2.3   \n",
            "149                5.9               3.0                5.1               1.8   \n",
            "\n",
            "        species  \n",
            "56   versicolor  \n",
            "70   versicolor  \n",
            "77   versicolor  \n",
            "83   versicolor  \n",
            "85   versicolor  \n",
            "100   virginica  \n",
            "101   virginica  \n",
            "102   virginica  \n",
            "103   virginica  \n",
            "104   virginica  \n",
            "105   virginica  \n",
            "106   virginica  \n",
            "107   virginica  \n",
            "108   virginica  \n",
            "109   virginica  \n",
            "110   virginica  \n",
            "111   virginica  \n",
            "112   virginica  \n",
            "113   virginica  \n",
            "114   virginica  \n",
            "115   virginica  \n",
            "116   virginica  \n",
            "117   virginica  \n",
            "118   virginica  \n",
            "120   virginica  \n",
            "121   virginica  \n",
            "122   virginica  \n",
            "123   virginica  \n",
            "124   virginica  \n",
            "125   virginica  \n",
            "126   virginica  \n",
            "127   virginica  \n",
            "128   virginica  \n",
            "129   virginica  \n",
            "130   virginica  \n",
            "131   virginica  \n",
            "132   virginica  \n",
            "135   virginica  \n",
            "136   virginica  \n",
            "137   virginica  \n",
            "138   virginica  \n",
            "139   virginica  \n",
            "140   virginica  \n",
            "141   virginica  \n",
            "142   virginica  \n",
            "143   virginica  \n",
            "144   virginica  \n",
            "145   virginica  \n",
            "146   virginica  \n",
            "147   virginica  \n",
            "148   virginica  \n",
            "149   virginica  \n"
          ]
        }
      ]
    },
    {
      "cell_type": "code",
      "source": [
        "print(\"Sum of petal lengths:\", df['petal length (cm)'].sum())"
      ],
      "metadata": {
        "colab": {
          "base_uri": "https://localhost:8080/"
        },
        "id": "o9A0Py6lfMNK",
        "outputId": "4c49efec-90c7-4ca5-b157-b2215de56d04"
      },
      "execution_count": 69,
      "outputs": [
        {
          "output_type": "stream",
          "name": "stdout",
          "text": [
            "Sum of petal lengths: 563.7\n"
          ]
        }
      ]
    },
    {
      "cell_type": "code",
      "source": [
        "df['sepal_area'] = df['sepal length (cm)'] * df['sepal width (cm)']\n",
        "print(df[['sepal_area']].head())"
      ],
      "metadata": {
        "colab": {
          "base_uri": "https://localhost:8080/"
        },
        "id": "ffVFobvtfUMK",
        "outputId": "cc46ec8b-3d77-4511-8b19-203331a910ff"
      },
      "execution_count": 70,
      "outputs": [
        {
          "output_type": "stream",
          "name": "stdout",
          "text": [
            "   sepal_area\n",
            "0       17.85\n",
            "1       14.70\n",
            "2       15.04\n",
            "3       14.26\n",
            "4       18.00\n"
          ]
        }
      ]
    },
    {
      "cell_type": "code",
      "source": [
        "print(\"Max petal length for Setosa:\", df[df['species'] == 'setosa']['petal length (cm)'].max())"
      ],
      "metadata": {
        "colab": {
          "base_uri": "https://localhost:8080/"
        },
        "id": "qHrEN08HfY-u",
        "outputId": "cd7a2824-d853-4161-c044-bc620de89401"
      },
      "execution_count": 71,
      "outputs": [
        {
          "output_type": "stream",
          "name": "stdout",
          "text": [
            "Max petal length for Setosa: 1.9\n"
          ]
        }
      ]
    },
    {
      "cell_type": "code",
      "source": [
        "print(df.groupby('species')['sepal length (cm)'].max())"
      ],
      "metadata": {
        "colab": {
          "base_uri": "https://localhost:8080/"
        },
        "id": "pxWMEgAlfd2t",
        "outputId": "3ba339a1-73d0-4446-9a3f-828b7448855f"
      },
      "execution_count": 72,
      "outputs": [
        {
          "output_type": "stream",
          "name": "stdout",
          "text": [
            "species\n",
            "setosa        5.8\n",
            "versicolor    7.0\n",
            "virginica     7.9\n",
            "Name: sepal length (cm), dtype: float64\n"
          ]
        },
        {
          "output_type": "stream",
          "name": "stderr",
          "text": [
            "<ipython-input-72-771716d4880d>:1: FutureWarning: The default of observed=False is deprecated and will be changed to True in a future version of pandas. Pass observed=False to retain current behavior or observed=True to adopt the future default and silence this warning.\n",
            "  print(df.groupby('species')['sepal length (cm)'].max())\n"
          ]
        }
      ]
    },
    {
      "cell_type": "code",
      "source": [
        "X = df.drop('species', axis=1)\n",
        "y = df['species']"
      ],
      "metadata": {
        "id": "jwZrxexGfrrv"
      },
      "execution_count": 73,
      "outputs": []
    },
    {
      "cell_type": "code",
      "source": [
        "X_train, X_test, y_train, y_test = train_test_split(X, y, test_size=0.2, random_state=42)\n",
        "\n",
        "# Print shape of each set\n",
        "print(\"X_train shape:\", X_train.shape)\n",
        "print(\"X_test shape:\", X_test.shape)\n",
        "print(\"y_train shape:\", y_train.shape)\n",
        "print(\"y_test shape:\", y_test.shape)"
      ],
      "metadata": {
        "colab": {
          "base_uri": "https://localhost:8080/"
        },
        "id": "7O15Ntl9gAmf",
        "outputId": "372d44a8-2469-470c-ad33-ae5c84c4e071"
      },
      "execution_count": 74,
      "outputs": [
        {
          "output_type": "stream",
          "name": "stdout",
          "text": [
            "X_train shape: (120, 5)\n",
            "X_test shape: (30, 5)\n",
            "y_train shape: (120,)\n",
            "y_test shape: (30,)\n"
          ]
        }
      ]
    },
    {
      "cell_type": "code",
      "source": [
        "svm_model = SVC()\n",
        "svm_model.fit(X_train, y_train)\n",
        "svm_preds = svm_model.predict(X_test)"
      ],
      "metadata": {
        "id": "VusVJPmvgTWN"
      },
      "execution_count": 76,
      "outputs": []
    },
    {
      "cell_type": "code",
      "source": [
        "dt_model = DecisionTreeClassifier()\n",
        "dt_model.fit(X_train, y_train)\n",
        "dt_preds = dt_model.predict(X_test)"
      ],
      "metadata": {
        "id": "g5Tar2Z3gfYB"
      },
      "execution_count": 77,
      "outputs": []
    },
    {
      "cell_type": "code",
      "source": [
        "# SVM Metrics\n",
        "svm_cm = confusion_matrix(y_test, svm_preds)\n",
        "svm_acc = accuracy_score(y_test, svm_preds)\n",
        "\n",
        "# Decision Tree Metrics\n",
        "dt_cm = confusion_matrix(y_test, dt_preds)\n",
        "dt_acc = accuracy_score(y_test, dt_preds)\n",
        "\n",
        "print(\"SVM Confusion Matrix:\\n\", svm_cm)\n",
        "print(\"SVM Accuracy:\", round(svm_acc, 2))\n",
        "\n",
        "print(\"\\nDecision Tree Confusion Matrix:\\n\", dt_cm)\n",
        "print(\"Decision Tree Accuracy:\", round(dt_acc, 2))\n"
      ],
      "metadata": {
        "colab": {
          "base_uri": "https://localhost:8080/"
        },
        "id": "ML97CKIegiId",
        "outputId": "7b12178d-80b2-4fcd-bcb8-f3035b9e8bd4"
      },
      "execution_count": 78,
      "outputs": [
        {
          "output_type": "stream",
          "name": "stdout",
          "text": [
            "SVM Confusion Matrix:\n",
            " [[10  0  0]\n",
            " [ 0  7  2]\n",
            " [ 0  1 10]]\n",
            "SVM Accuracy: 0.9\n",
            "\n",
            "Decision Tree Confusion Matrix:\n",
            " [[10  0  0]\n",
            " [ 0  9  0]\n",
            " [ 0  0 11]]\n",
            "Decision Tree Accuracy: 1.0\n"
          ]
        }
      ]
    },
    {
      "cell_type": "code",
      "source": [],
      "metadata": {
        "id": "cdb5ja2fg6R5"
      },
      "execution_count": null,
      "outputs": []
    }
  ]
}